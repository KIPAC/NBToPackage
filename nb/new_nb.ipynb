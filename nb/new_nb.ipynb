{
 "cells": [
  {
   "cell_type": "code",
   "execution_count": null,
   "id": "62f2fb15",
   "metadata": {},
   "outputs": [],
   "source": [
    "from piff_syst_plots.core import Plotter\n",
    "from piff_syst_plots.core import PlotCollection\n",
    "from piff_syst_plots.plotters import *"
   ]
  },
  {
   "cell_type": "code",
   "execution_count": null,
   "id": "bfd37933",
   "metadata": {},
   "outputs": [],
   "source": [
    "input_file = \"/global/cscratch1/sd/schutt20/y6a2_piff_hsm_all_qacuts_col_fwhm_collated.fits\""
   ]
  },
  {
   "cell_type": "code",
   "execution_count": null,
   "id": "d48270e4",
   "metadata": {},
   "outputs": [],
   "source": [
    "plot_collection = PlotCollection(input_file, 'plots')"
   ]
  },
  {
   "cell_type": "code",
   "execution_count": null,
   "id": "09cb7c75",
   "metadata": {},
   "outputs": [],
   "source": [
    "print(list(Plotter.plotters.keys()))"
   ]
  },
  {
   "cell_type": "code",
   "execution_count": null,
   "id": "ce3be1f9",
   "metadata": {},
   "outputs": [],
   "source": [
    "fig = plot_collection.add_plot(\"n_stars\", PlotStarsPerCCD)"
   ]
  },
  {
   "cell_type": "code",
   "execution_count": null,
   "id": "4332b50c",
   "metadata": {},
   "outputs": [],
   "source": []
  }
 ],
 "metadata": {
  "kernelspec": {
   "display_name": "Python 3 (ipykernel)",
   "language": "python",
   "name": "python3"
  },
  "language_info": {
   "codemirror_mode": {
    "name": "ipython",
    "version": 3
   },
   "file_extension": ".py",
   "mimetype": "text/x-python",
   "name": "python",
   "nbconvert_exporter": "python",
   "pygments_lexer": "ipython3",
   "version": "3.10.5"
  }
 },
 "nbformat": 4,
 "nbformat_minor": 5
}
