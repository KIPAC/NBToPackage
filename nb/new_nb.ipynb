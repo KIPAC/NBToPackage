{
 "cells": [
  {
   "cell_type": "code",
   "execution_count": null,
   "id": "a010ac38",
   "metadata": {},
   "outputs": [],
   "source": [
    "from piff_syst_plots.core import Plotter\n",
    "from piff_syst_plots.core import PlotCollection\n",
    "from piff_syst_plots.plotters import *"
   ]
  },
  {
   "cell_type": "code",
   "execution_count": null,
   "id": "ffbf7ae6",
   "metadata": {},
   "outputs": [],
   "source": [
    "input_file = \"../data/piff_sample_cat.fits\""
   ]
  },
  {
   "cell_type": "code",
   "execution_count": null,
   "id": "d0ace51f",
   "metadata": {},
   "outputs": [],
   "source": [
    "plot_collection = PlotCollection(input_file, 'plots')"
   ]
  },
  {
   "cell_type": "code",
   "execution_count": null,
   "id": "5f5fb170",
   "metadata": {},
   "outputs": [],
   "source": [
    "print(list(Plotter.plotters.keys()))"
   ]
  },
  {
   "cell_type": "code",
   "execution_count": null,
   "id": "7bc58759",
   "metadata": {},
   "outputs": [],
   "source": [
    "plot_collection.add_plot(\"n_stars\", PlotStarsPerCCD)"
   ]
  },
  {
   "cell_type": "code",
   "execution_count": null,
   "id": "3bbb0324",
   "metadata": {},
   "outputs": [],
   "source": [
    "plot_collection.add_plot(\"footprint\", PlotFootprint)"
   ]
  },
  {
   "cell_type": "code",
   "execution_count": null,
   "id": "c2dbe789",
   "metadata": {},
   "outputs": [],
   "source": [
    "plot_collection.add_plot(\"flux_by_band\", PlotFluxByBand)"
   ]
  },
  {
   "cell_type": "code",
   "execution_count": null,
   "id": "5167ef3f",
   "metadata": {},
   "outputs": [],
   "source": [
    "plot_collection.add_plot(\"colors_by_band\", PlotColorsByBandMulti)"
   ]
  },
  {
   "cell_type": "code",
   "execution_count": null,
   "id": "423795b1",
   "metadata": {},
   "outputs": [],
   "source": [
    "plot_collection.add_plot(\"color_by_band_single\", PlotColorsByBandSingle)"
   ]
  },
  {
   "cell_type": "code",
   "execution_count": null,
   "id": "db3b3e24",
   "metadata": {},
   "outputs": [],
   "source": [
    "plot_collection.add_plot(\"color_v_mag\", PlotColorVMagByBand)"
   ]
  },
  {
   "cell_type": "code",
   "execution_count": null,
   "id": "00188e5d",
   "metadata": {},
   "outputs": [],
   "source": [
    "plot_collection.add_plot(\"size_and_ellip\", PlotSizeAndEllipticityByBand)"
   ]
  },
  {
   "cell_type": "code",
   "execution_count": null,
   "id": "231404b7",
   "metadata": {},
   "outputs": [],
   "source": [
    "plot_collection.add_plot(\"size_by_band\", PlotSizeByBand)"
   ]
  },
  {
   "cell_type": "code",
   "execution_count": null,
   "id": "2023eb0c",
   "metadata": {},
   "outputs": [],
   "source": [
    "plot_collection.add_plot(\"seeing_by_band\", PlotSeeingByBand)"
   ]
  },
  {
   "cell_type": "code",
   "execution_count": null,
   "id": "24dc5bfc",
   "metadata": {},
   "outputs": [],
   "source": [
    "plot_collection.add_plot(\"t_v_fwhm_by_band\", PlotTversusFWHMByBand)"
   ]
  },
  {
   "cell_type": "code",
   "execution_count": null,
   "id": "09dbf51c",
   "metadata": {},
   "outputs": [],
   "source": [
    "plot_collection.add_plot(\"size_v_color\", PlotSizeVColorByBands)"
   ]
  },
  {
   "cell_type": "code",
   "execution_count": null,
   "id": "f51675ca",
   "metadata": {},
   "outputs": [],
   "source": [
    "plot_collection.add_plot(\"resid_by_band\", PlotResidualsByBand)"
   ]
  },
  {
   "cell_type": "code",
   "execution_count": null,
   "id": "13591352",
   "metadata": {},
   "outputs": [],
   "source": [
    "plot_collection.add_plot(\"profile_v_mag\", PlotProfileVMagByBands)"
   ]
  },
  {
   "cell_type": "code",
   "execution_count": null,
   "id": "2a91d77d",
   "metadata": {},
   "outputs": [],
   "source": [
    "plot_collection.add_plot(\"psf_by_band\", PlotPsfByBand)"
   ]
  },
  {
   "cell_type": "code",
   "execution_count": null,
   "id": "6a7f4b0d",
   "metadata": {},
   "outputs": [],
   "source": [
    "plot_collection.save_figs(annotated=True)"
   ]
  },
  {
   "cell_type": "code",
   "execution_count": null,
   "id": "c4dbedbd",
   "metadata": {},
   "outputs": [],
   "source": []
  }
 ],
 "metadata": {
  "kernelspec": {
   "display_name": "Python 3 (ipykernel)",
   "language": "python",
   "name": "python3"
  },
  "language_info": {
   "codemirror_mode": {
    "name": "ipython",
    "version": 3
   },
   "file_extension": ".py",
   "mimetype": "text/x-python",
   "name": "python",
   "nbconvert_exporter": "python",
   "pygments_lexer": "ipython3",
   "version": "3.10.5"
  }
 },
 "nbformat": 4,
 "nbformat_minor": 5
}
